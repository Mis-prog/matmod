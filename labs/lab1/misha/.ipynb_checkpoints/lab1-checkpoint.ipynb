{
 "cells": [
  {
   "metadata": {},
   "cell_type": "markdown",
   "source": "# Марс",
   "id": "fcf11e076804fe1"
  },
  {
   "metadata": {
    "ExecuteTime": {
     "end_time": "2024-09-19T04:37:01.404471Z",
     "start_time": "2024-09-19T04:37:01.179684Z"
    }
   },
   "cell_type": "code",
   "source": [
    "import numpy as np\n",
    "import matplotlib as plt"
   ],
   "id": "1c8985b19745b228",
   "outputs": [],
   "execution_count": 1
  },
  {
   "metadata": {
    "ExecuteTime": {
     "end_time": "2024-09-19T04:37:11.898593Z",
     "start_time": "2024-09-19T04:37:11.891585Z"
    }
   },
   "cell_type": "code",
   "source": "M1=2*10**30",
   "id": "f192072b304417f7",
   "outputs": [],
   "execution_count": 2
  },
  {
   "metadata": {},
   "cell_type": "code",
   "outputs": [],
   "execution_count": null,
   "source": "",
   "id": "f22bf9699cd89e78"
  }
 ],
 "metadata": {
  "kernelspec": {
   "display_name": "Python 3",
   "language": "python",
   "name": "python3"
  },
  "language_info": {
   "codemirror_mode": {
    "name": "ipython",
    "version": 2
   },
   "file_extension": ".py",
   "mimetype": "text/x-python",
   "name": "python",
   "nbconvert_exporter": "python",
   "pygments_lexer": "ipython2",
   "version": "2.7.6"
  }
 },
 "nbformat": 4,
 "nbformat_minor": 5
}
