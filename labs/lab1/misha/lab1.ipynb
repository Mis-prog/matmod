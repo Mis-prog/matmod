{
 "cells": [
  {
   "cell_type": "markdown",
   "id": "fcf11e076804fe1",
   "metadata": {},
   "source": [
    "# Задание 1"
   ]
  },
  {
   "cell_type": "code",
   "id": "1c8985b19745b228",
   "metadata": {
    "ExecuteTime": {
     "end_time": "2024-09-27T13:55:54.514485Z",
     "start_time": "2024-09-27T13:55:53.410136Z"
    }
   },
   "source": [
    "import numpy as np\n",
    "from scipy.integrate import solve_ivp\n",
    "import matplotlib.pyplot as plt\n",
    "from tqdm import tqdm"
   ],
   "outputs": [],
   "execution_count": 1
  },
  {
   "cell_type": "markdown",
   "id": "db9f31229f170cc3",
   "metadata": {},
   "source": [
    "## Входные данные"
   ]
  },
  {
   "cell_type": "code",
   "id": "f192072b304417f7",
   "metadata": {
    "ExecuteTime": {
     "end_time": "2024-09-27T13:55:54.519178Z",
     "start_time": "2024-09-27T13:55:54.515484Z"
    }
   },
   "source": [
    "G = 6.67e-11  # гравитационная постоянная, м^3 кг^-1 с^-2\n",
    "M1 = 2.0e30  # масса тела 1 (звезда), кг\n",
    "M2 = 6.4e23  # масса тела 2 (планета), кг\n",
    "M3 = 1.1e16  # масса астероида\n",
    "R1 = 696340*1e3   # радиус солнца\n",
    "R2 = 3390*1e3   # радиус тела 2 (планета), км\n",
    "R12 = 228e9  # расстояние между телом 1 и телом 2, км\n",
    "U2 = 24*1e3   # начальная скорость тела 2, км/с\n",
    "R3 = 11.1*1e3   # радиус тела 3 (астероид), км\n",
    "R23 = 9.4e6   # расстояние между телом 2 и телом 3, км\n",
    "U3 = 2.14*1e3   # начальная скорость тела 3, км/с"
   ],
   "outputs": [],
   "execution_count": 2
  },
  {
   "cell_type": "markdown",
   "id": "91c311eac5f597af",
   "metadata": {},
   "source": [
    "## Начальные условия"
   ]
  },
  {
   "cell_type": "code",
   "id": "f1166ff179422dd",
   "metadata": {
    "ExecuteTime": {
     "end_time": "2024-09-27T13:55:54.524551Z",
     "start_time": "2024-09-27T13:55:54.520177Z"
    }
   },
   "source": [
    "x2_0 = R1 + R12 + R2 # начальное положение x тела 2\n",
    "x3_0 = R1 + R12 + 2 * R2 + R23 + R3  # начальное положение x тела 3\n",
    "y2_0 = 0  # начальное положение y тела 2\n",
    "y3_0 = 0  # начальное положение y тела 3\n",
    "\n",
    "vx2_0 = 0  # начальная скорость по x тела 2\n",
    "vx3_0 = 0  # начальная скорость по x тела 3\n",
    "vy2_0 = U2  # начальная скорость по y тела 2\n",
    "vy3_0 = U3+U2  # начальная скорость по y тела 3"
   ],
   "outputs": [],
   "execution_count": 3
  },
  {
   "cell_type": "code",
   "id": "cdaca0a1cd9cdb2b",
   "metadata": {
    "ExecuteTime": {
     "end_time": "2024-09-27T13:55:54.529543Z",
     "start_time": "2024-09-27T13:55:54.525551Z"
    }
   },
   "source": [
    "# Функция для расчета расстояний между телами\n",
    "def r12(x2, y2):\n",
    "    return np.sqrt(x2 ** 2 + y2 ** 2)\n",
    "\n",
    "\n",
    "def r13(x3, y3):\n",
    "    return np.sqrt(x3 ** 2 + y3 ** 2)\n",
    "\n",
    "\n",
    "def r23(x2, y2, x3, y3):\n",
    "    return np.sqrt((x3 - x2) ** 2 + (y3 - y2) ** 2)"
   ],
   "outputs": [],
   "execution_count": 4
  },
  {
   "cell_type": "code",
   "id": "f22bf9699cd89e78",
   "metadata": {
    "ExecuteTime": {
     "end_time": "2024-09-27T13:55:54.535579Z",
     "start_time": "2024-09-27T13:55:54.530544Z"
    }
   },
   "source": [
    "# Определим систему уравнений\n",
    "def system(t, y):\n",
    "    x2, vx2, y2, vy2, x3, vx3, y3, vy3 = y\n",
    "\n",
    "    # Расстояния между телами\n",
    "    r_12 = r12(x2, y2)\n",
    "    r_13 = r13(x3, y3)\n",
    "    r_23 = r23(x2, y2, x3, y3)\n",
    "\n",
    "    # Уравнения движения\n",
    "    ax2 = G * M1 * (-x2) / r_12 ** 3 + G * M3 * (x3 - x2) / r_23 ** 3\n",
    "    ay2 = G * M1 * (-y2) / r_12 ** 3 + G * M3 * (y3 - y2) / r_23 ** 3\n",
    "\n",
    "    ax3 = G * M1 * (-x3) / r_13 ** 3 + G * M2 * (x2 - x3) / r_23 ** 3\n",
    "    ay3 = G * M1 * (-y3) / r_13 ** 3 + G * M2 * (y2 - y3) / r_23 ** 3\n",
    "\n",
    "    # print([vx2, ax2, vy2, ay2, vx3, ax3, vy3, ay3])\n",
    "\n",
    "    return [vx2, ax2, vy2, ay2, vx3, ax3, vy3, ay3]\n"
   ],
   "outputs": [],
   "execution_count": 5
  },
  {
   "cell_type": "code",
   "id": "c2bf7417b72ab808",
   "metadata": {
    "ExecuteTime": {
     "end_time": "2024-09-27T13:55:54.543530Z",
     "start_time": "2024-09-27T13:55:54.536580Z"
    }
   },
   "source": [
    "y0 = [x2_0, vx2_0, y2_0, vy2_0, x3_0, vx3_0, y3_0, vy3_0]\n",
    "\n",
    "t_end = 60*60*24*684*1000\n",
    "n = 10000000\n",
    "\n",
    "dt = t_end / n\n",
    "dt"
   ],
   "outputs": [
    {
     "data": {
      "text/plain": [
       "5909.76"
      ]
     },
     "execution_count": 6,
     "metadata": {},
     "output_type": "execute_result"
    }
   ],
   "execution_count": 6
  },
  {
   "cell_type": "code",
   "id": "9fdb94bc3038a0e1",
   "metadata": {
    "ExecuteTime": {
     "end_time": "2024-09-27T13:55:58.660269Z",
     "start_time": "2024-09-27T13:55:54.545531Z"
    }
   },
   "source": [
    "sol = solve_ivp(system, (0, t_end), y0, method='DOP853', t_eval=np.linspace(0, t_end, n))\n",
    "len(sol)"
   ],
   "outputs": [
    {
     "data": {
      "text/plain": [
       "11"
      ]
     },
     "execution_count": 7,
     "metadata": {},
     "output_type": "execute_result"
    }
   ],
   "execution_count": 7
  },
  {
   "cell_type": "code",
   "id": "719a554fe81eaa2b",
   "metadata": {
    "ExecuteTime": {
     "end_time": "2024-09-27T14:03:39.373515Z",
     "start_time": "2024-09-27T14:03:39.218213Z"
    }
   },
   "source": [
    "# plt.plot(sol.y[4], sol.y[6], label='Тело 3 (Астероид)')\n",
    "for start,end in [(0,10),(9990,10000)]:\n",
    "    # plt.figure()\n",
    "    plt.plot(sol.y[4][start*1000:end*1000], sol.y[6][start*1000:end*1000], label=f'(start,end)')\n",
    "    plt.legend()\n",
    "# plt.xlabel('x (м)')\n",
    "# plt.ylabel('y (м)')\n",
    "# plt.legend()\n",
    "# plt.title('Траектории движения тел')\n",
    "# plt.grid()\n",
    "# plt.show()"
   ],
   "outputs": [
    {
     "data": {
      "text/plain": [
       "<Figure size 640x480 with 1 Axes>"
      ],
      "image/png": "[encoded data removed]"
     },
     "metadata": {},
     "output_type": "display_data"
    }
   ],
   "execution_count": 27
  },
  {
   "metadata": {
    "ExecuteTime": {
     "end_time": "2024-09-27T13:56:04.499646Z",
     "start_time": "2024-09-27T13:56:04.497527Z"
    }
   },
   "cell_type": "code",
   "source": "",
   "id": "f4b9eedcaf8b92c5",
   "outputs": [],
   "execution_count": 8
  }
 ],
 "metadata": {
  "kernelspec": {
   "display_name": "Python 3",
   "language": "python",
   "name": "python3"
  },
  "language_info": {
   "codemirror_mode": {
    "name": "ipython",
    "version": 3
   },
   "file_extension": ".py",
   "mimetype": "text/x-python",
   "name": "python",
   "nbconvert_exporter": "python",
   "pygments_lexer": "ipython3",
   "version": "3.12.4"
  }
 },
 "nbformat": 4,
 "nbformat_minor": 5
}
