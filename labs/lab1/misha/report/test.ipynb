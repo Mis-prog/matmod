{
 "cells": [
  {
   "cell_type": "code",
   "execution_count": 1,
   "id": "3a7e7ec0-f115-422f-935a-44965aec7bec",
   "metadata": {},
   "outputs": [],
   "source": [
    "m1, m2, m3 = 2 * (10 ** 30), 1.9 * (10 ** 27), 1.5 * (10 ** 23)\n",
    "G = 6.67 * (10 ** -11)\n",
    "m0 = 75\n",
    "mt = 4950\n",
    "T = 1600\n",
    "koef = 0.001\n",
    "u = 3170\n",
    "Rpl = 71500 * (10 ** 3)\n",
    "H = 900 * (10 ** 3)\n",
    "Rsat = 2634 * (10 ** 3)\n"
   ]
  },
  {
   "cell_type": "code",
   "execution_count": 5,
   "id": "3ab22d4a-25bc-4dd6-baa7-2a795473d6bd",
   "metadata": {},
   "outputs": [],
   "source": [
    "from scipy.integrate import solve_ivp\n",
    "import numpy as np"
   ]
  },
  {
   "cell_type": "code",
   "execution_count": 6,
   "id": "708f0e8d-b22b-482e-aa68-f911b37c518e",
   "metadata": {},
   "outputs": [],
   "source": [
    "def m(t):\n",
    "    if t >= T:\n",
    "        return m0\n",
    "    else:\n",
    "        return (m0 + mt) / (1 - koef) - mt * t / T\n",
    "\n",
    "\n",
    "def dm(t):\n",
    "    if t >= T:\n",
    "        return 0\n",
    "    else:\n",
    "        return -mt / T\n",
    "\n"
   ]
  },
  {
   "cell_type": "code",
   "execution_count": 7,
   "id": "df2ddb83-652e-4fad-a969-84705a6992a0",
   "metadata": {},
   "outputs": [],
   "source": [
    "def F2(t, y):\n",
    "    rx, ry, r13x, r13y, vx, vy, v3x, v3y = y\n",
    "    r = np.sqrt(rx**2 + ry**2)\n",
    "    v = np.sqrt(vx**2 + vy**2)\n",
    "    r2 = np.sqrt((rx - r12x)**2 + (ry - r12y)**2)\n",
    "    r3 = np.sqrt((rx - r13x)**2 + (ry - r13y)**2)\n",
    "    r13 = np.sqrt(r13x**2 + r13y**2)\n",
    "    r23x = (r13x - r12x)\n",
    "    r23y = (r13y - r12y)\n",
    "    r23 = np.sqrt((r13x - r12x)**2 + (r13y - r12y)**2)\n",
    "\n",
    "    return np.array([vx, vy, v3x, v3y,\n",
    "                     (-u * dm(t) / m(t) * vx / v + G * (-m1 * rx / (r**3) - m2 * (rx - r12x) / (r2**3) - m3 * (rx - r13x) / (r3**3))),\n",
    "                     (-u * dm(t) / m(t) * vy / v + G * (-m1 * ry / (r**3) - m2 * (ry - r12y) / (r2**3) - m3 * (ry - r13y) / (r3**3))),\n",
    "                     G * (-(m1 / (r13**3) * r13x) - (m2 / (r23**3) * r23x)),\n",
    "                     G * (-(m1 / (r13**3) * r13y) - (m2 / (r23**3) * r23y))\n",
    "                     ])"
   ]
  },
  {
   "cell_type": "code",
   "execution_count": 8,
   "id": "ed906b8c-6f9c-4198-a79a-19bf31055629",
   "metadata": {},
   "outputs": [],
   "source": [
    "def z2(r13x0,r13y0,v3x0,v3y0,tau,r12x0,r12y0,fi,m):\n",
    "    global r12x,r12y\n",
    "    global mt\n",
    "    mt=m\n",
    "    r12x=r12x0\n",
    "    r12y=r12y0\n",
    "    r3x=r13x0-r12x\n",
    "    r3y=r13y0-r12y\n",
    "    r3=np.sqrt(r3x**2+r3y**2)\n",
    "    v0=1.0*np.sqrt(G*m2/(Rpl+H))\n",
    "    rx0=(Rpl+H)*(r3x*np.cos(fi)-r3y*np.sin(fi))/r3\n",
    "    ry0=(Rpl+H)*(r3x*np.sin(fi)+r3y*np.cos(fi))/r3\n",
    "    r0=np.sqrt(rx0**2+ry0**2)\n",
    "    vx0=-v0*ry0/r0\n",
    "    vy0=v0*rx0/r0\n",
    "    rx0=r12x+rx0\n",
    "    ry0=r12y+ry0\n",
    "    s0=[rx0,ry0,r13x0,r13y0,vx0,vy0,v3x0,v3y0]\n",
    "    t_span=(0,306720)\n",
    "    #t_span=(0,1442880*2)\n",
    "    satel=solve_ivp(F2,t_span,s0, max_step=tau, atol=1, rtol=1,method=\"RK45\")\n",
    "    return satel\n"
   ]
  },
  {
   "cell_type": "code",
   "execution_count": null,
   "id": "6239f899-3865-4917-8784-8ca9341d0ff5",
   "metadata": {},
   "outputs": [],
   "source": [
    "import random\n",
    "import math\n",
    "tau = 0.1\n",
    "a1 = random.random() * math.pi * 2\n",
    "mt1 = random.randint(1, 20000)\n",
    "y=z2(-166864782814.52066, -751687780697.0953, 10608.237381615552, -2321.8734688953678, tau,\n",
    "                           -166632056766.0584, -750639289651.4109, a1, mt1)"
   ]
  },
  {
   "cell_type": "code",
   "execution_count": null,
   "id": "f565076d-2999-4f52-a194-af1e1090ccd8",
   "metadata": {},
   "outputs": [],
   "source": [
    "y"
   ]
  },
  {
   "cell_type": "code",
   "execution_count": null,
   "id": "d48e0161-967a-4d03-8964-2388ec63c8ab",
   "metadata": {},
   "outputs": [],
   "source": []
  }
 ],
 "metadata": {
  "kernelspec": {
   "display_name": "Python 3 (ipykernel)",
   "language": "python",
   "name": "python3"
  },
  "language_info": {
   "codemirror_mode": {
    "name": "ipython",
    "version": 3
   },
   "file_extension": ".py",
   "mimetype": "text/x-python",
   "name": "python",
   "nbconvert_exporter": "python",
   "pygments_lexer": "ipython3",
   "version": "3.12.4"
  }
 },
 "nbformat": 4,
 "nbformat_minor": 5
}
