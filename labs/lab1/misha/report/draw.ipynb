{
 "cells": [
  {
   "cell_type": "code",
   "execution_count": 1,
   "id": "6ec24a04-b0a9-4603-945f-0c081977783d",
   "metadata": {},
   "outputs": [],
   "source": [
    "import pandas as pd \n",
    "import matplotlib.pyplot as plt\n",
    "from matplotlib.animation import FuncAnimation"
   ]
  },
  {
   "cell_type": "markdown",
   "id": "1d869552-6775-4684-a380-a04c59f94f68",
   "metadata": {},
   "source": [
    "# Задание 1"
   ]
  },
  {
   "cell_type": "code",
   "execution_count": null,
   "id": "2578b5fd-276d-4ba7-86db-6cedf8a906ae",
   "metadata": {},
   "outputs": [],
   "source": [
    "data_trajectory=pd.read_csv('../res_task1/path_full.csv',sep=' ')\n",
    "# data_trajectory=data_trajectory[:2]"
   ]
  },
  {
   "cell_type": "code",
   "execution_count": null,
   "id": "573d25a6-a6a1-4f3d-bc42-55923585a38b",
   "metadata": {},
   "outputs": [],
   "source": [
    "plt.plot(data_trajectory.x2,data_trajectory.y2,label='Планета')\n",
    "plt.plot(data_trajectory.x3,data_trajectory.y3,label='Cпутник')\n",
    "plt.legend(loc='best')\n",
    "plt.grid()"
   ]
  },
  {
   "cell_type": "markdown",
   "id": "a2691775-f8d4-458e-ba15-3bdf5b9d24b2",
   "metadata": {},
   "source": [
    "# Задание 2"
   ]
  },
  {
   "cell_type": "code",
   "execution_count": null,
   "id": "c436a2ee-305a-4dc0-a699-68029abbb8e6",
   "metadata": {},
   "outputs": [],
   "source": [
    "coord=[[-50368219856.43,-219503615669.65], [-50370393498.29 ,-219513089385.80]]"
   ]
  },
  {
   "cell_type": "code",
   "execution_count": null,
   "id": "51694ada-e210-40d8-99fb-3a63aec9f0a8",
   "metadata": {},
   "outputs": [],
   "source": [
    "import math\n",
    "x_coords, y_coords = zip(*coord)\n",
    "math.sqrt((x_coords[0]-x_coords[1])**2+(y_coords[0]-y_coords[1])**2)"
   ]
  },
  {
   "cell_type": "code",
   "execution_count": null,
   "id": "3adcd2ee-62c9-413f-b53c-4bbe26efee44",
   "metadata": {},
   "outputs": [],
   "source": [
    "6000e3"
   ]
  },
  {
   "cell_type": "code",
   "execution_count": null,
   "id": "9f8992db-5c0d-4e61-bcfc-a0f5d2e7029c",
   "metadata": {},
   "outputs": [],
   "source": [
    "coord=[[-166864782814.52066, -751687780697.0953],[-166632056766.0584, -750639289651.4109]]\n",
    "x_coords, y_coords = zip(*coord)\n",
    "math.sqrt((x_coords[0]-x_coords[1])**2+(y_coords[0]-y_coords[1])**2)"
   ]
  },
  {
   "cell_type": "code",
   "execution_count": null,
   "id": "2947f87d-33b2-47cf-98e0-9d83e5d4a0d4",
   "metadata": {},
   "outputs": [],
   "source": [
    "# plt.scatter(0,0,color='red')\n",
    "plt.scatter(x_coords,y_coords)"
   ]
  },
  {
   "cell_type": "code",
   "execution_count": 2,
   "id": "e90a9a00-7044-44fc-af86-f81f85ed2fba",
   "metadata": {},
   "outputs": [
    {
     "data": {
      "text/html": [
       "<div>\n",
       "<style scoped>\n",
       "    .dataframe tbody tr th:only-of-type {\n",
       "        vertical-align: middle;\n",
       "    }\n",
       "\n",
       "    .dataframe tbody tr th {\n",
       "        vertical-align: top;\n",
       "    }\n",
       "\n",
       "    .dataframe thead th {\n",
       "        text-align: right;\n",
       "    }\n",
       "</style>\n",
       "<table border=\"1\" class=\"dataframe\">\n",
       "  <thead>\n",
       "    <tr style=\"text-align: right;\">\n",
       "      <th></th>\n",
       "      <th>x</th>\n",
       "      <th>y</th>\n",
       "      <th>x3</th>\n",
       "      <th>y3</th>\n",
       "      <th>x2</th>\n",
       "      <th>y2</th>\n",
       "    </tr>\n",
       "  </thead>\n",
       "  <tbody>\n",
       "    <tr>\n",
       "      <th>0</th>\n",
       "      <td>-5.037170e+10</td>\n",
       "      <td>-2.195030e+11</td>\n",
       "      <td>-5.037040e+10</td>\n",
       "      <td>-2.195130e+11</td>\n",
       "      <td>-5.036820e+10</td>\n",
       "      <td>-2.195040e+11</td>\n",
       "    </tr>\n",
       "    <tr>\n",
       "      <th>1</th>\n",
       "      <td>-5.034530e+10</td>\n",
       "      <td>-2.195120e+11</td>\n",
       "      <td>-5.034480e+10</td>\n",
       "      <td>-2.195200e+11</td>\n",
       "      <td>-5.034450e+10</td>\n",
       "      <td>-2.195090e+11</td>\n",
       "    </tr>\n",
       "    <tr>\n",
       "      <th>2</th>\n",
       "      <td>-5.031330e+10</td>\n",
       "      <td>-2.195210e+11</td>\n",
       "      <td>-5.031930e+10</td>\n",
       "      <td>-2.195260e+11</td>\n",
       "      <td>-5.032080e+10</td>\n",
       "      <td>-2.195150e+11</td>\n",
       "    </tr>\n",
       "    <tr>\n",
       "      <th>3</th>\n",
       "      <td>-5.028160e+10</td>\n",
       "      <td>-2.195290e+11</td>\n",
       "      <td>-5.029380e+10</td>\n",
       "      <td>-2.195310e+11</td>\n",
       "      <td>-5.029720e+10</td>\n",
       "      <td>-2.195210e+11</td>\n",
       "    </tr>\n",
       "    <tr>\n",
       "      <th>4</th>\n",
       "      <td>-5.025000e+10</td>\n",
       "      <td>-2.195370e+11</td>\n",
       "      <td>-5.026840e+10</td>\n",
       "      <td>-2.195370e+11</td>\n",
       "      <td>-5.027350e+10</td>\n",
       "      <td>-2.195270e+11</td>\n",
       "    </tr>\n",
       "    <tr>\n",
       "      <th>...</th>\n",
       "      <td>...</td>\n",
       "      <td>...</td>\n",
       "      <td>...</td>\n",
       "      <td>...</td>\n",
       "      <td>...</td>\n",
       "      <td>...</td>\n",
       "    </tr>\n",
       "    <tr>\n",
       "      <th>69116</th>\n",
       "      <td>8.057920e+11</td>\n",
       "      <td>5.844850e+11</td>\n",
       "      <td>1.812760e+11</td>\n",
       "      <td>-1.384500e+11</td>\n",
       "      <td>1.812790e+11</td>\n",
       "      <td>-1.384570e+11</td>\n",
       "    </tr>\n",
       "    <tr>\n",
       "      <th>69117</th>\n",
       "      <td>8.057940e+11</td>\n",
       "      <td>5.844960e+11</td>\n",
       "      <td>1.812890e+11</td>\n",
       "      <td>-1.384330e+11</td>\n",
       "      <td>1.812940e+11</td>\n",
       "      <td>-1.384380e+11</td>\n",
       "    </tr>\n",
       "    <tr>\n",
       "      <th>69118</th>\n",
       "      <td>8.057970e+11</td>\n",
       "      <td>5.845070e+11</td>\n",
       "      <td>1.813020e+11</td>\n",
       "      <td>-1.384160e+11</td>\n",
       "      <td>1.813090e+11</td>\n",
       "      <td>-1.384190e+11</td>\n",
       "    </tr>\n",
       "    <tr>\n",
       "      <th>69119</th>\n",
       "      <td>8.058000e+11</td>\n",
       "      <td>5.845180e+11</td>\n",
       "      <td>1.813160e+11</td>\n",
       "      <td>-1.384000e+11</td>\n",
       "      <td>1.813230e+11</td>\n",
       "      <td>-1.384000e+11</td>\n",
       "    </tr>\n",
       "    <tr>\n",
       "      <th>69120</th>\n",
       "      <td>8.058030e+11</td>\n",
       "      <td>5.845290e+11</td>\n",
       "      <td>1.813310e+11</td>\n",
       "      <td>-1.383830e+11</td>\n",
       "      <td>1.813380e+11</td>\n",
       "      <td>-1.383810e+11</td>\n",
       "    </tr>\n",
       "  </tbody>\n",
       "</table>\n",
       "<p>69121 rows × 6 columns</p>\n",
       "</div>"
      ],
      "text/plain": [
       "                  x             y            x3            y3            x2  \\\n",
       "0     -5.037170e+10 -2.195030e+11 -5.037040e+10 -2.195130e+11 -5.036820e+10   \n",
       "1     -5.034530e+10 -2.195120e+11 -5.034480e+10 -2.195200e+11 -5.034450e+10   \n",
       "2     -5.031330e+10 -2.195210e+11 -5.031930e+10 -2.195260e+11 -5.032080e+10   \n",
       "3     -5.028160e+10 -2.195290e+11 -5.029380e+10 -2.195310e+11 -5.029720e+10   \n",
       "4     -5.025000e+10 -2.195370e+11 -5.026840e+10 -2.195370e+11 -5.027350e+10   \n",
       "...             ...           ...           ...           ...           ...   \n",
       "69116  8.057920e+11  5.844850e+11  1.812760e+11 -1.384500e+11  1.812790e+11   \n",
       "69117  8.057940e+11  5.844960e+11  1.812890e+11 -1.384330e+11  1.812940e+11   \n",
       "69118  8.057970e+11  5.845070e+11  1.813020e+11 -1.384160e+11  1.813090e+11   \n",
       "69119  8.058000e+11  5.845180e+11  1.813160e+11 -1.384000e+11  1.813230e+11   \n",
       "69120  8.058030e+11  5.845290e+11  1.813310e+11 -1.383830e+11  1.813380e+11   \n",
       "\n",
       "                 y2  \n",
       "0     -2.195040e+11  \n",
       "1     -2.195090e+11  \n",
       "2     -2.195150e+11  \n",
       "3     -2.195210e+11  \n",
       "4     -2.195270e+11  \n",
       "...             ...  \n",
       "69116 -1.384570e+11  \n",
       "69117 -1.384380e+11  \n",
       "69118 -1.384190e+11  \n",
       "69119 -1.384000e+11  \n",
       "69120 -1.383810e+11  \n",
       "\n",
       "[69121 rows x 6 columns]"
      ]
     },
     "execution_count": 2,
     "metadata": {},
     "output_type": "execute_result"
    }
   ],
   "source": [
    "data=pd.read_csv('../res_task2/full_trajectory.csv',sep=' ')\n",
    "data"
   ]
  },
  {
   "cell_type": "code",
   "execution_count": 3,
   "id": "05452c6e-1936-482d-866b-7dc5945864a9",
   "metadata": {},
   "outputs": [
    {
     "data": {
      "text/plain": [
       "<matplotlib.legend.Legend at 0x29673ef5630>"
      ]
     },
     "execution_count": 3,
     "metadata": {},
     "output_type": "execute_result"
    },
    {
     "data": {
      "image/png": "[encoded data removed]",
      "text/plain": [
       "<Figure size 640x480 with 1 Axes>"
      ]
     },
     "metadata": {},
     "output_type": "display_data"
    }
   ],
   "source": [
    "end = 100000\n",
    "plt.scatter(-50368219856.43,-219503615669.65,color='red',label='Марс')\n",
    "plt.plot(data.x[:end],data.y[:end],label='Ракета',color='orange')\n",
    "plt.plot(data.x3[:end],data.y3[:end],label='Фобос',color='green')\n",
    "plt.plot(data.x2[:end],data.y2[:end],label='Марс')\n",
    "plt.legend(loc='best')\n",
    "plt.grid()\n",
    "plt.legend()"
   ]
  },
  {
   "cell_type": "code",
   "execution_count": 4,
   "id": "f5597f6f-3755-44e8-b94f-9ce0f0ed9e61",
   "metadata": {},
   "outputs": [
    {
     "data": {
      "image/png": "[encoded data removed]",
      "text/plain": [
       "<Figure size 640x480 with 1 Axes>"
      ]
     },
     "metadata": {},
     "output_type": "display_data"
    }
   ],
   "source": [
    "fig, ax = plt.subplots()\n",
    "point_mars = ax.scatter(-50368219856.43, -219503615669.65, color='red', label='Марс')\n",
    "line_rocket, = ax.plot([], [], color='orange', label='Ракета')\n",
    "line_phobos, = ax.plot([], [], color='green', label='Фобос')\n",
    "line_mars, = ax.plot([], [], color='blue', label='Марс')\n",
    "ax.legend(loc='best')\n",
    "ax.grid()"
   ]
  },
  {
   "cell_type": "code",
   "execution_count": 5,
   "id": "aa5963ac-0c8f-410e-865f-3bcf7d9b0391",
   "metadata": {},
   "outputs": [],
   "source": [
    "def update(frame):\n",
    "    idx = frame * frame_step  # Расчёт текущего индекса\n",
    "    line_rocket.set_data(data.x[:idx], data.y[:idx])\n",
    "    line_phobos.set_data(data.x3[:idx], data.y3[:idx])\n",
    "    line_mars.set_data(data.x2[:idx], data.y2[:idx])\n",
    "    return line_rocket, line_phobos, line_mars"
   ]
  },
  {
   "cell_type": "code",
   "execution_count": null,
   "id": "09299143-7a50-4709-9d4b-7f155ac3788b",
   "metadata": {},
   "outputs": [],
   "source": [
    "frame_step=100\n",
    "ani = FuncAnimation(\n",
    "    fig, update, frames=range(0, end // frame_step), interval=50, blit=True\n",
    ")"
   ]
  },
  {
   "cell_type": "code",
   "execution_count": null,
   "id": "6466710e-622c-4372-a24a-e23b84284bbc",
   "metadata": {},
   "outputs": [],
   "source": [
    "ani.save('animation.mp4', writer='ffmpeg')"
   ]
  },
  {
   "cell_type": "code",
   "execution_count": null,
   "id": "91873ef3-5871-4464-9064-dab2c70e8a79",
   "metadata": {},
   "outputs": [],
   "source": []
  }
 ],
 "metadata": {
  "kernelspec": {
   "display_name": "Python 3 (ipykernel)",
   "language": "python",
   "name": "python3"
  },
  "language_info": {
   "codemirror_mode": {
    "name": "ipython",
    "version": 3
   },
   "file_extension": ".py",
   "mimetype": "text/x-python",
   "name": "python",
   "nbconvert_exporter": "python",
   "pygments_lexer": "ipython3",
   "version": "3.10.0"
  }
 },
 "nbformat": 4,
 "nbformat_minor": 5
}
