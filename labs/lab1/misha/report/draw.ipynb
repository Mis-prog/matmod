{
 "cells": [
  {
   "cell_type": "code",
   "execution_count": 2,
   "id": "6ec24a04-b0a9-4603-945f-0c081977783d",
   "metadata": {},
   "outputs": [],
   "source": [
    "import pandas as pd \n",
    "import matplotlib.pyplot as plt"
   ]
  },
  {
   "cell_type": "markdown",
   "id": "1d869552-6775-4684-a380-a04c59f94f68",
   "metadata": {},
   "source": [
    "# Задание 1"
   ]
  },
  {
   "cell_type": "code",
   "execution_count": null,
   "id": "2578b5fd-276d-4ba7-86db-6cedf8a906ae",
   "metadata": {},
   "outputs": [],
   "source": [
    "data_trajectory=pd.read_csv('../res_task1/path_full.csv',sep=' ')\n",
    "# data_trajectory=data_trajectory[:2]"
   ]
  },
  {
   "cell_type": "code",
   "execution_count": null,
   "id": "573d25a6-a6a1-4f3d-bc42-55923585a38b",
   "metadata": {},
   "outputs": [],
   "source": [
    "plt.plot(data_trajectory.x2,data_trajectory.y2,label='Планета')\n",
    "plt.plot(data_trajectory.x3,data_trajectory.y3,label='Cпутник')\n",
    "plt.legend(loc='best')\n",
    "plt.grid()"
   ]
  }
 ],
 "metadata": {
  "kernelspec": {
   "display_name": "Python 3 (ipykernel)",
   "language": "python",
   "name": "python3"
  },
  "language_info": {
   "codemirror_mode": {
    "name": "ipython",
    "version": 3
   },
   "file_extension": ".py",
   "mimetype": "text/x-python",
   "name": "python",
   "nbconvert_exporter": "python",
   "pygments_lexer": "ipython3",
   "version": "3.10.0"
  }
 },
 "nbformat": 4,
 "nbformat_minor": 5
}
