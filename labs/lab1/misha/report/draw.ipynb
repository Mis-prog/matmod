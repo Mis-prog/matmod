{
 "cells": [
  {
   "cell_type": "code",
   "execution_count": 2,
   "id": "6ec24a04-b0a9-4603-945f-0c081977783d",
   "metadata": {},
   "outputs": [],
   "source": [
    "import pandas as pd \n",
    "import matplotlib.pyplot as plt"
   ]
  },
  {
   "cell_type": "markdown",
   "id": "1d869552-6775-4684-a380-a04c59f94f68",
   "metadata": {},
   "source": [
    "# Задание 1"
   ]
  },
  {
   "cell_type": "code",
   "execution_count": null,
   "id": "2578b5fd-276d-4ba7-86db-6cedf8a906ae",
   "metadata": {},
   "outputs": [],
   "source": [
    "data_trajectory=pd.read_csv('../res_task1/path_full.csv',sep=' ')\n",
    "# data_trajectory=data_trajectory[:2]"
   ]
  },
  {
   "cell_type": "code",
   "execution_count": null,
   "id": "573d25a6-a6a1-4f3d-bc42-55923585a38b",
   "metadata": {},
   "outputs": [],
   "source": [
    "plt.plot(data_trajectory.x2,data_trajectory.y2,label='Планета')\n",
    "plt.plot(data_trajectory.x3,data_trajectory.y3,label='Cпутник')\n",
    "plt.legend(loc='best')\n",
    "plt.grid()"
   ]
  },
  {
   "cell_type": "markdown",
   "id": "a2691775-f8d4-458e-ba15-3bdf5b9d24b2",
   "metadata": {},
   "source": [
    "# Задание 2"
   ]
  },
  {
   "cell_type": "code",
   "execution_count": null,
   "id": "c436a2ee-305a-4dc0-a699-68029abbb8e6",
   "metadata": {},
   "outputs": [],
   "source": [
    "coord=[[-50368219856.43,-219503615669.65], [-50370393498.29 ,-219513089385.80]]"
   ]
  },
  {
   "cell_type": "code",
   "execution_count": null,
   "id": "51694ada-e210-40d8-99fb-3a63aec9f0a8",
   "metadata": {},
   "outputs": [],
   "source": [
    "import math\n",
    "x_coords, y_coords = zip(*coord)\n",
    "math.sqrt((x_coords[0]-x_coords[1])**2+(y_coords[0]-y_coords[1])**2)"
   ]
  },
  {
   "cell_type": "code",
   "execution_count": null,
   "id": "3adcd2ee-62c9-413f-b53c-4bbe26efee44",
   "metadata": {},
   "outputs": [],
   "source": [
    "6000e3"
   ]
  },
  {
   "cell_type": "code",
   "execution_count": null,
   "id": "9f8992db-5c0d-4e61-bcfc-a0f5d2e7029c",
   "metadata": {},
   "outputs": [],
   "source": [
    "coord=[[-166864782814.52066, -751687780697.0953],[-166632056766.0584, -750639289651.4109]]\n",
    "x_coords, y_coords = zip(*coord)\n",
    "math.sqrt((x_coords[0]-x_coords[1])**2+(y_coords[0]-y_coords[1])**2)"
   ]
  },
  {
   "cell_type": "code",
   "execution_count": null,
   "id": "2947f87d-33b2-47cf-98e0-9d83e5d4a0d4",
   "metadata": {},
   "outputs": [],
   "source": [
    "# plt.scatter(0,0,color='red')\n",
    "plt.scatter(x_coords,y_coords)"
   ]
  },
  {
   "cell_type": "code",
   "execution_count": 74,
   "id": "e90a9a00-7044-44fc-af86-f81f85ed2fba",
   "metadata": {},
   "outputs": [
    {
     "data": {
      "text/html": [
       "<div>\n",
       "<style scoped>\n",
       "    .dataframe tbody tr th:only-of-type {\n",
       "        vertical-align: middle;\n",
       "    }\n",
       "\n",
       "    .dataframe tbody tr th {\n",
       "        vertical-align: top;\n",
       "    }\n",
       "\n",
       "    .dataframe thead th {\n",
       "        text-align: right;\n",
       "    }\n",
       "</style>\n",
       "<table border=\"1\" class=\"dataframe\">\n",
       "  <thead>\n",
       "    <tr style=\"text-align: right;\">\n",
       "      <th></th>\n",
       "      <th>x</th>\n",
       "      <th>y</th>\n",
       "      <th>x3</th>\n",
       "      <th>y3</th>\n",
       "    </tr>\n",
       "  </thead>\n",
       "  <tbody>\n",
       "    <tr>\n",
       "      <th>0</th>\n",
       "      <td>-5.036740e+10</td>\n",
       "      <td>-2.195000e+11</td>\n",
       "      <td>-5.037040e+10</td>\n",
       "      <td>-2.195130e+11</td>\n",
       "    </tr>\n",
       "    <tr>\n",
       "      <th>1</th>\n",
       "      <td>-5.037240e+10</td>\n",
       "      <td>-2.195010e+11</td>\n",
       "      <td>-5.034490e+10</td>\n",
       "      <td>-2.195200e+11</td>\n",
       "    </tr>\n",
       "    <tr>\n",
       "      <th>2</th>\n",
       "      <td>-5.038070e+10</td>\n",
       "      <td>-2.195040e+11</td>\n",
       "      <td>-5.031950e+10</td>\n",
       "      <td>-2.195260e+11</td>\n",
       "    </tr>\n",
       "    <tr>\n",
       "      <th>3</th>\n",
       "      <td>-5.038880e+10</td>\n",
       "      <td>-2.195080e+11</td>\n",
       "      <td>-5.029410e+10</td>\n",
       "      <td>-2.195330e+11</td>\n",
       "    </tr>\n",
       "    <tr>\n",
       "      <th>4</th>\n",
       "      <td>-5.039680e+10</td>\n",
       "      <td>-2.195110e+11</td>\n",
       "      <td>-5.026870e+10</td>\n",
       "      <td>-2.195390e+11</td>\n",
       "    </tr>\n",
       "    <tr>\n",
       "      <th>...</th>\n",
       "      <td>...</td>\n",
       "      <td>...</td>\n",
       "      <td>...</td>\n",
       "      <td>...</td>\n",
       "    </tr>\n",
       "    <tr>\n",
       "      <th>69116</th>\n",
       "      <td>-5.644200e+10</td>\n",
       "      <td>-2.265680e+11</td>\n",
       "      <td>-1.867260e+11</td>\n",
       "      <td>-1.333500e+11</td>\n",
       "    </tr>\n",
       "    <tr>\n",
       "      <th>69117</th>\n",
       "      <td>-5.644610e+10</td>\n",
       "      <td>-2.265710e+11</td>\n",
       "      <td>-1.867100e+11</td>\n",
       "      <td>-1.333700e+11</td>\n",
       "    </tr>\n",
       "    <tr>\n",
       "      <th>69118</th>\n",
       "      <td>-5.645030e+10</td>\n",
       "      <td>-2.265750e+11</td>\n",
       "      <td>-1.866930e+11</td>\n",
       "      <td>-1.333890e+11</td>\n",
       "    </tr>\n",
       "    <tr>\n",
       "      <th>69119</th>\n",
       "      <td>-5.645440e+10</td>\n",
       "      <td>-2.265790e+11</td>\n",
       "      <td>-1.866770e+11</td>\n",
       "      <td>-1.334090e+11</td>\n",
       "    </tr>\n",
       "    <tr>\n",
       "      <th>69120</th>\n",
       "      <td>-5.645850e+10</td>\n",
       "      <td>-2.265820e+11</td>\n",
       "      <td>-1.866600e+11</td>\n",
       "      <td>-1.334290e+11</td>\n",
       "    </tr>\n",
       "  </tbody>\n",
       "</table>\n",
       "<p>69121 rows × 4 columns</p>\n",
       "</div>"
      ],
      "text/plain": [
       "                  x             y            x3            y3\n",
       "0     -5.036740e+10 -2.195000e+11 -5.037040e+10 -2.195130e+11\n",
       "1     -5.037240e+10 -2.195010e+11 -5.034490e+10 -2.195200e+11\n",
       "2     -5.038070e+10 -2.195040e+11 -5.031950e+10 -2.195260e+11\n",
       "3     -5.038880e+10 -2.195080e+11 -5.029410e+10 -2.195330e+11\n",
       "4     -5.039680e+10 -2.195110e+11 -5.026870e+10 -2.195390e+11\n",
       "...             ...           ...           ...           ...\n",
       "69116 -5.644200e+10 -2.265680e+11 -1.867260e+11 -1.333500e+11\n",
       "69117 -5.644610e+10 -2.265710e+11 -1.867100e+11 -1.333700e+11\n",
       "69118 -5.645030e+10 -2.265750e+11 -1.866930e+11 -1.333890e+11\n",
       "69119 -5.645440e+10 -2.265790e+11 -1.866770e+11 -1.334090e+11\n",
       "69120 -5.645850e+10 -2.265820e+11 -1.866600e+11 -1.334290e+11\n",
       "\n",
       "[69121 rows x 4 columns]"
      ]
     },
     "execution_count": 74,
     "metadata": {},
     "output_type": "execute_result"
    }
   ],
   "source": [
    "data_trajectory_raketa=pd.read_csv('../res_task2/full_trajectory.csv',sep=' ')\n",
    "data_trajectory_raketa"
   ]
  },
  {
   "cell_type": "code",
   "execution_count": 75,
   "id": "05452c6e-1936-482d-866b-7dc5945864a9",
   "metadata": {},
   "outputs": [
    {
     "data": {
      "text/plain": [
       "<matplotlib.legend.Legend at 0x15c34d85900>"
      ]
     },
     "execution_count": 75,
     "metadata": {},
     "output_type": "execute_result"
    },
    {
     "data": {
      "image/png": "[encoded data removed]",
      "text/plain": [
       "<Figure size 640x480 with 1 Axes>"
      ]
     },
     "metadata": {},
     "output_type": "display_data"
    }
   ],
   "source": [
    "end = 100000000000000000000 \n",
    "plt.scatter(-50368219856.43,-219503615669.65,color='red',label='Марс')\n",
    "plt.plot(data_trajectory_raketa.x[:end],data_trajectory_raketa.y[:end],label='Ракета',color='orange')\n",
    "plt.plot(data_trajectory_raketa.x3[:end],data_trajectory_raketa.y3[:end],label='Фобос',color='green')\n",
    "plt.legend(loc='best')\n",
    "plt.grid()\n",
    "plt.legend()"
   ]
  },
  {
   "cell_type": "code",
   "execution_count": null,
   "id": "f5597f6f-3755-44e8-b94f-9ce0f0ed9e61",
   "metadata": {},
   "outputs": [],
   "source": []
  }
 ],
 "metadata": {
  "kernelspec": {
   "display_name": "Python 3 (ipykernel)",
   "language": "python",
   "name": "python3"
  },
  "language_info": {
   "codemirror_mode": {
    "name": "ipython",
    "version": 3
   },
   "file_extension": ".py",
   "mimetype": "text/x-python",
   "name": "python",
   "nbconvert_exporter": "python",
   "pygments_lexer": "ipython3",
   "version": "3.10.0"
  }
 },
 "nbformat": 4,
 "nbformat_minor": 5
}
