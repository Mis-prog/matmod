{
 "cells": [
  {
   "cell_type": "code",
   "execution_count": 19,
   "id": "96e8b23e-8fc7-4819-9c35-fcc57731268a",
   "metadata": {},
   "outputs": [],
   "source": [
    "import matplotlib.pyplot as plt \n",
    "import pandas as pd"
   ]
  },
  {
   "cell_type": "markdown",
   "id": "8c7e424c-06ad-4b2e-b484-9c82a6abca48",
   "metadata": {},
   "source": [
    "# Задание 2"
   ]
  },
  {
   "cell_type": "code",
   "execution_count": 71,
   "id": "6f5878ab-b198-4f44-8c99-03230ac721fb",
   "metadata": {},
   "outputs": [
    {
     "data": {
      "text/html": [
       "<div>\n",
       "<style scoped>\n",
       "    .dataframe tbody tr th:only-of-type {\n",
       "        vertical-align: middle;\n",
       "    }\n",
       "\n",
       "    .dataframe tbody tr th {\n",
       "        vertical-align: top;\n",
       "    }\n",
       "\n",
       "    .dataframe thead th {\n",
       "        text-align: right;\n",
       "    }\n",
       "</style>\n",
       "<table border=\"1\" class=\"dataframe\">\n",
       "  <thead>\n",
       "    <tr style=\"text-align: right;\">\n",
       "      <th></th>\n",
       "      <th>x</th>\n",
       "      <th>y</th>\n",
       "      <th>x3</th>\n",
       "      <th>y3</th>\n",
       "    </tr>\n",
       "  </thead>\n",
       "  <tbody>\n",
       "    <tr>\n",
       "      <th>0</th>\n",
       "      <td>-2.726000e+06</td>\n",
       "      <td>6.096280e+06</td>\n",
       "      <td>-1.469890e+08</td>\n",
       "      <td>328718000.0</td>\n",
       "    </tr>\n",
       "    <tr>\n",
       "      <th>1</th>\n",
       "      <td>-2.796730e+06</td>\n",
       "      <td>6.064650e+06</td>\n",
       "      <td>-1.469990e+08</td>\n",
       "      <td>328713000.0</td>\n",
       "    </tr>\n",
       "    <tr>\n",
       "      <th>2</th>\n",
       "      <td>-2.867560e+06</td>\n",
       "      <td>6.032980e+06</td>\n",
       "      <td>-1.470080e+08</td>\n",
       "      <td>328708000.0</td>\n",
       "    </tr>\n",
       "    <tr>\n",
       "      <th>3</th>\n",
       "      <td>-2.938510e+06</td>\n",
       "      <td>6.001250e+06</td>\n",
       "      <td>-1.470180e+08</td>\n",
       "      <td>328704000.0</td>\n",
       "    </tr>\n",
       "    <tr>\n",
       "      <th>4</th>\n",
       "      <td>-3.009580e+06</td>\n",
       "      <td>5.969470e+06</td>\n",
       "      <td>-1.470280e+08</td>\n",
       "      <td>328699000.0</td>\n",
       "    </tr>\n",
       "    <tr>\n",
       "      <th>...</th>\n",
       "      <td>...</td>\n",
       "      <td>...</td>\n",
       "      <td>...</td>\n",
       "      <td>...</td>\n",
       "    </tr>\n",
       "    <tr>\n",
       "      <th>241916</th>\n",
       "      <td>-3.911880e+10</td>\n",
       "      <td>-1.748250e+10</td>\n",
       "      <td>-2.529640e+09</td>\n",
       "      <td>-782454000.0</td>\n",
       "    </tr>\n",
       "    <tr>\n",
       "      <th>241917</th>\n",
       "      <td>-3.911900e+10</td>\n",
       "      <td>-1.748250e+10</td>\n",
       "      <td>-2.529650e+09</td>\n",
       "      <td>-782459000.0</td>\n",
       "    </tr>\n",
       "    <tr>\n",
       "      <th>241918</th>\n",
       "      <td>-3.911920e+10</td>\n",
       "      <td>-1.748260e+10</td>\n",
       "      <td>-2.529660e+09</td>\n",
       "      <td>-782463000.0</td>\n",
       "    </tr>\n",
       "    <tr>\n",
       "      <th>241919</th>\n",
       "      <td>-3.911930e+10</td>\n",
       "      <td>-1.748270e+10</td>\n",
       "      <td>-2.529670e+09</td>\n",
       "      <td>-782468000.0</td>\n",
       "    </tr>\n",
       "    <tr>\n",
       "      <th>241920</th>\n",
       "      <td>-3.911950e+10</td>\n",
       "      <td>-1.748280e+10</td>\n",
       "      <td>-2.529680e+09</td>\n",
       "      <td>-782473000.0</td>\n",
       "    </tr>\n",
       "  </tbody>\n",
       "</table>\n",
       "<p>241921 rows × 4 columns</p>\n",
       "</div>"
      ],
      "text/plain": [
       "                   x             y            x3           y3\n",
       "0      -2.726000e+06  6.096280e+06 -1.469890e+08  328718000.0\n",
       "1      -2.796730e+06  6.064650e+06 -1.469990e+08  328713000.0\n",
       "2      -2.867560e+06  6.032980e+06 -1.470080e+08  328708000.0\n",
       "3      -2.938510e+06  6.001250e+06 -1.470180e+08  328704000.0\n",
       "4      -3.009580e+06  5.969470e+06 -1.470280e+08  328699000.0\n",
       "...              ...           ...           ...          ...\n",
       "241916 -3.911880e+10 -1.748250e+10 -2.529640e+09 -782454000.0\n",
       "241917 -3.911900e+10 -1.748250e+10 -2.529650e+09 -782459000.0\n",
       "241918 -3.911920e+10 -1.748260e+10 -2.529660e+09 -782463000.0\n",
       "241919 -3.911930e+10 -1.748270e+10 -2.529670e+09 -782468000.0\n",
       "241920 -3.911950e+10 -1.748280e+10 -2.529680e+09 -782473000.0\n",
       "\n",
       "[241921 rows x 4 columns]"
      ]
     },
     "execution_count": 71,
     "metadata": {},
     "output_type": "execute_result"
    }
   ],
   "source": [
    "data=pd.read_csv('../result/task2/full_trajectory.csv',sep=' ')\n",
    "data"
   ]
  },
  {
   "cell_type": "code",
   "execution_count": 72,
   "id": "b730c260-ae40-4538-9b38-66e4378ff6a1",
   "metadata": {},
   "outputs": [
    {
     "data": {
      "image/png": "[encoded data removed]",
      "text/plain": [
       "<Figure size 640x480 with 1 Axes>"
      ]
     },
     "metadata": {},
     "output_type": "display_data"
    }
   ],
   "source": [
    "plt.plot(data.x,data.y,label='Ракета',ls='--')\n",
    "plt.plot(data.x3,data.y3,label='Луна',ls='-.')\n",
    "plt.legend()\n",
    "plt.grid()"
   ]
  },
  {
   "cell_type": "code",
   "execution_count": null,
   "id": "a70bac8a-64cc-4500-8420-d769e6245d8e",
   "metadata": {},
   "outputs": [],
   "source": []
  }
 ],
 "metadata": {
  "kernelspec": {
   "display_name": "Python 3 (ipykernel)",
   "language": "python",
   "name": "python3"
  },
  "language_info": {
   "codemirror_mode": {
    "name": "ipython",
    "version": 3
   },
   "file_extension": ".py",
   "mimetype": "text/x-python",
   "name": "python",
   "nbconvert_exporter": "python",
   "pygments_lexer": "ipython3",
   "version": "3.10.0"
  }
 },
 "nbformat": 4,
 "nbformat_minor": 5
}
