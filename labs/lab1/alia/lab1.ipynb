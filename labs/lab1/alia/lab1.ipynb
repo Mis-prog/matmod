{
 "cells": [
  {
   "cell_type": "markdown",
   "id": "fcf11e076804fe1",
   "metadata": {},
   "source": [
    "# Задание 1"
   ]
  },
  {
   "cell_type": "code",
   "id": "1c8985b19745b228",
   "metadata": {
    "ExecuteTime": {
     "end_time": "2024-09-29T08:03:20.281011Z",
     "start_time": "2024-09-29T08:03:18.738485Z"
    }
   },
   "source": [
    "import numpy as np\n",
    "from scipy.integrate import solve_ivp\n",
    "import matplotlib.pyplot as plt\n",
    "from tqdm import tqdm"
   ],
   "outputs": [],
   "execution_count": 2
  },
  {
   "cell_type": "markdown",
   "id": "db9f31229f170cc3",
   "metadata": {},
   "source": "## Входные данные"
  },
  {
   "cell_type": "code",
   "id": "f192072b304417f7",
   "metadata": {
    "ExecuteTime": {
     "end_time": "2024-09-29T08:03:20.285440Z",
     "start_time": "2024-09-29T08:03:20.282009Z"
    }
   },
   "source": [
    "G = 6.67e-11  # гравитационная постоянная, м^3 кг^-1 с^-2\n",
    "M1 = 2.0e30  # масса тела 1 (звезда), кг\n",
    "M2 = 6.0e24  # масса тела 2 (планета), кг\n",
    "M3 = 7.3e22  # масса астероида\n",
    "R1 = 696340e3  # радиус солнца\n",
    "R2 = 6378e3  # радиус тела 2 (планета), км\n",
    "R12 = 150e9  # расстояние между телом 1 и телом 2, км\n",
    "U2 = 30e3  # начальная скорость тела 2, км/с\n",
    "R3 = 1737e3  # радиус тела 3 (астероид), км\n",
    "R23 = 384e6  # расстояние между телом 2 и телом 3, км\n",
    "U3 = 1.0e3  # начальная скорость тела 3, км/с"
   ],
   "outputs": [],
   "execution_count": 3
  },
  {
   "cell_type": "markdown",
   "id": "91c311eac5f597af",
   "metadata": {},
   "source": [
    "## Начальные условия"
   ]
  },
  {
   "cell_type": "code",
   "id": "f1166ff179422dd",
   "metadata": {
    "ExecuteTime": {
     "end_time": "2024-09-29T08:03:20.289931Z",
     "start_time": "2024-09-29T08:03:20.286466Z"
    }
   },
   "source": [
    "x2_0 = R1 + R12 + R2  # начальное положение x тела 2\n",
    "x3_0 = R1 + R12 + 2 * R2 + R23 + R3  # начальное положение x тела 3\n",
    "y2_0 = 0  # начальное положение y тела 2\n",
    "y3_0 = 0  # начальное положение y тела 3\n",
    "\n",
    "vx2_0 = 0  # начальная скорость по x тела 2\n",
    "vx3_0 = 0  # начальная скорость по x тела 3\n",
    "vy2_0 = U2  # начальная скорость по y тела 2\n",
    "vy3_0 = U3 + U2  # начальная скорость по y тела 3"
   ],
   "outputs": [],
   "execution_count": 4
  },
  {
   "cell_type": "code",
   "id": "cdaca0a1cd9cdb2b",
   "metadata": {
    "ExecuteTime": {
     "end_time": "2024-09-29T08:03:20.295515Z",
     "start_time": "2024-09-29T08:03:20.290930Z"
    }
   },
   "source": [
    "# Функция для расчета расстояний между телами\n",
    "def r12(x2, y2):\n",
    "    return np.sqrt(x2 ** 2 + y2 ** 2)\n",
    "\n",
    "\n",
    "def r13(x3, y3):\n",
    "    return np.sqrt(x3 ** 2 + y3 ** 2)\n",
    "\n",
    "\n",
    "def r23(x2, y2, x3, y3):\n",
    "    return np.sqrt((x3 - x2) ** 2 + (y3 - y2) ** 2)"
   ],
   "outputs": [],
   "execution_count": 5
  },
  {
   "cell_type": "code",
   "id": "f22bf9699cd89e78",
   "metadata": {
    "ExecuteTime": {
     "end_time": "2024-09-29T08:03:20.301436Z",
     "start_time": "2024-09-29T08:03:20.296512Z"
    }
   },
   "source": [
    "# Определим систему уравнений\n",
    "def system(t, y):\n",
    "    x2, vx2, y2, vy2, x3, vx3, y3, vy3 = y\n",
    "\n",
    "    # Расстояния между телами\n",
    "    r_12 = r12(x2, y2)\n",
    "    r_13 = r13(x3, y3)\n",
    "    r_23 = r23(x2, y2, x3, y3)\n",
    "\n",
    "    assert r_12 > 0\n",
    "    assert r_13 > 0\n",
    "    assert r_23 > 0\n",
    "\n",
    "    # Уравнения движения\n",
    "    ax2 = G * M1 * (-x2) / r_12 ** 3 + G * M3 * (x3 - x2) / r_23 ** 3\n",
    "    ay2 = G * M1 * (-y2) / r_12 ** 3 + G * M3 * (y3 - y2) / r_23 ** 3\n",
    "\n",
    "    ax3 = G * M1 * (-x3) / r_13 ** 3 + G * M2 * (x2 - x3) / r_23 ** 3\n",
    "    ay3 = G * M1 * (-y3) / r_13 ** 3 + G * M2 * (y2 - y3) / r_23 ** 3\n",
    "\n",
    "    return [vx2, ax2, vy2, ay2, vx3, ax3, vy3, ay3]\n"
   ],
   "outputs": [],
   "execution_count": 6
  },
  {
   "cell_type": "code",
   "id": "c2bf7417b72ab808",
   "metadata": {
    "ExecuteTime": {
     "end_time": "2024-09-29T08:03:49.234318Z",
     "start_time": "2024-09-29T08:03:49.229365Z"
    }
   },
   "source": [
    "y0 = [x2_0, vx2_0, y2_0, vy2_0, x3_0, vx3_0, y3_0, vy3_0]\n",
    "\n",
    "t_end = 60 * 60 * 24 * 365 * 1000\n",
    "n = 10000000\n",
    "\n",
    "dt = t_end / n\n",
    "dt"
   ],
   "outputs": [
    {
     "data": {
      "text/plain": [
       "3153.6"
      ]
     },
     "execution_count": 11,
     "metadata": {},
     "output_type": "execute_result"
    }
   ],
   "execution_count": 11
  },
  {
   "cell_type": "code",
   "id": "9fdb94bc3038a0e1",
   "metadata": {
    "ExecuteTime": {
     "end_time": "2024-09-29T08:03:54.008335Z",
     "start_time": "2024-09-29T08:03:50.008003Z"
    }
   },
   "source": [
    "sol = solve_ivp(system, (0, t_end), y0, method='DOP853', t_eval=np.linspace(0, t_end, n))\n",
    "len(sol)"
   ],
   "outputs": [
    {
     "data": {
      "text/plain": [
       "11"
      ]
     },
     "execution_count": 12,
     "metadata": {},
     "output_type": "execute_result"
    }
   ],
   "execution_count": 12
  },
  {
   "cell_type": "code",
   "id": "719a554fe81eaa2b",
   "metadata": {
    "ExecuteTime": {
     "end_time": "2024-09-29T08:04:19.741536Z",
     "start_time": "2024-09-29T08:04:19.564472Z"
    }
   },
   "source": [
    "# plt.plot(sol.y[4], sol.y[6], label='Тело 3 (Астероид)')\n",
    "i = 0\n",
    "for start, end in [(0, 10), (9990, 10000)]:\n",
    "    i += 1;\n",
    "    # plt.figure()\n",
    "    plt.plot(sol.y[4][start * 1000:end * 1000], sol.y[6][start * 1000:end * 1000], label=f'Номер ветка: {i}')\n",
    "    plt.legend()\n",
    "# plt.xlabel('x (м)')\n",
    "# plt.ylabel('y (м)')\n",
    "# plt.legend()\n",
    "# plt.title('Траектории движения тел')\n",
    "# plt.grid()\n",
    "# plt.show()"
   ],
   "outputs": [
    {
     "data": {
      "text/plain": [
       "<Figure size 640x480 with 1 Axes>"
      ],
      "image/png": "[encoded data removed]"
     },
     "metadata": {},
     "output_type": "display_data"
    }
   ],
   "execution_count": 14
  },
  {
   "metadata": {},
   "cell_type": "code",
   "source": "",
   "id": "cf66b1a222f77f40",
   "outputs": [],
   "execution_count": null
  },
  {
   "metadata": {},
   "cell_type": "code",
   "source": "",
   "id": "6e66efaa163082c6",
   "outputs": [],
   "execution_count": null
  }
 ],
 "metadata": {
  "kernelspec": {
   "display_name": "Python 3",
   "language": "python",
   "name": "python3"
  },
  "language_info": {
   "codemirror_mode": {
    "name": "ipython",
    "version": 3
   },
   "file_extension": ".py",
   "mimetype": "text/x-python",
   "name": "python",
   "nbconvert_exporter": "python",
   "pygments_lexer": "ipython3",
   "version": "3.12.4"
  }
 },
 "nbformat": 4,
 "nbformat_minor": 5
}
