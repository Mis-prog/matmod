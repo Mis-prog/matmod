{
 "cells": [
  {
   "cell_type": "markdown",
   "id": "fcf11e076804fe1",
   "metadata": {},
   "source": [
    "# Задание 1"
   ]
  },
  {
   "cell_type": "code",
   "execution_count": 22,
   "id": "1c8985b19745b228",
   "metadata": {
    "ExecuteTime": {
     "end_time": "2024-09-29T08:03:20.281011Z",
     "start_time": "2024-09-29T08:03:18.738485Z"
    }
   },
   "outputs": [],
   "source": [
    "import numpy as np\n",
    "from scipy.integrate import solve_ivp\n",
    "import matplotlib.pyplot as plt\n",
    "import math"
   ]
  },
  {
   "cell_type": "code",
   "execution_count": 23,
   "id": "f192072b304417f7",
   "metadata": {
    "ExecuteTime": {
     "end_time": "2024-09-29T08:03:20.285440Z",
     "start_time": "2024-09-29T08:03:20.282009Z"
    }
   },
   "outputs": [],
   "source": [
    "def F(t, y):\n",
    "    r12x, r12y, r13x, r13y, v2x, v2y, v3x, v3y = y\n",
    "    r2 = math.sqrt(r12x ** 2 + r12y ** 2)\n",
    "    r3 = math.sqrt(r13x ** 2 + r13y ** 2)\n",
    "    r23x = r13x - r12x\n",
    "    r23y = r13y - r12y\n",
    "    r = math.sqrt(r23x ** 2 + r23y ** 2)\n",
    "    return [v2x, v2y, v3x, v3y,\n",
    "            G * (-(m1 / (r2 ** 3) * r12x) + (m3 / (r ** 3) * r23x)),\n",
    "            G * (-(m1 / (r2 ** 3) * r12y) + (m3 / (r ** 3) * r23y)),\n",
    "            G * (-(m1 / (r3 ** 3) * r13x) - (m2 / (r ** 3) * r23x)),\n",
    "            G * (-(m1 / (r3 ** 3) * r13y) - (m2 / (r ** 3) * r23y))]"
   ]
  },
  {
   "cell_type": "code",
   "execution_count": 24,
   "id": "fb20e1fa",
   "metadata": {},
   "outputs": [],
   "source": [
    "m1, m2, m3 = 2 * (10 ** 30), 1.9 * (10 ** 27), 1.5 * (10 ** 23)\n",
    "G = 6.67 * (10 ** -11)\n",
    "t_span = (0, 0 * 3000000000)\n",
    "tau = 1000\n",
    "y0 = [780 * (10 ** 9), 0, 780 * (10 ** 9) + 1070 * (10 ** 6), 0, 0, 13000, 0, 23900]"
   ]
  },
  {
   "cell_type": "code",
   "execution_count": 13,
   "id": "3d4d5cd1",
   "metadata": {},
   "outputs": [],
   "source": []
  },
  {
   "cell_type": "code",
   "execution_count": 25,
   "id": "87db903a",
   "metadata": {},
   "outputs": [],
   "source": [
    "ox1, oy1, ox100, oy100, ox500, oy500, ox1000, oy1000 = [], [], [], [], [], [], [], []\n",
    "orbitsx = [[] for i in range(1200)]\n",
    "orbitsy = [[] for i in range(1200)]\n",
    "\n",
    "\n",
    "def event(x, y):\n",
    "    if not hasattr(event, \"counter\"):\n",
    "        event.counter = 0\n",
    "    if not hasattr(event, \"lastvalue\"):\n",
    "        event.lastvalue = y[3] - y[1]\n",
    "    if not hasattr(event, \"xstop\"):\n",
    "        event.xstop = -1\n",
    "    orbitsx[int(event.counter / 2)].append(y[2] - y[0])\n",
    "    orbitsy[int(event.counter / 2)].append(y[3] - y[1])\n",
    "    if (y[3] - y[1]) * event.lastvalue < 0:\n",
    "        event.counter += 1\n",
    "    if y[3] - y[1] != 0:\n",
    "        event.lastvalue = y[3] - y[1]\n",
    "    if ((event.counter >= 2000 and (abs(y[0] / math.sqrt(y[0] ** 2 + y[1] ** 2) - (y[2] - y[0]) / math.sqrt(\n",
    "            (y[2] - y[0]) ** 2 + (y[3] - y[1]) ** 2)) < 0.001) and\n",
    "         (abs(y[1] / math.sqrt(y[0] ** 2 + y[1] ** 2) - (y[3] - y[1]) / math.sqrt(\n",
    "             (y[2] - y[0]) ** 2 + (y[3] - y[1]) ** 2)) < 0.001)) and\n",
    "            (math.sqrt(y[0] ** 2 + y[1] ** 2) < math.sqrt(y[2] ** 2 + y[3] ** 2))):\n",
    "        event.xstop = x\n",
    "    return x - event.xstop"
   ]
  },
  {
   "cell_type": "code",
   "execution_count": 26,
   "id": "a6d6a4ea",
   "metadata": {},
   "outputs": [],
   "source": [
    "solution = solve_ivp(F, t_span, y0, max_step=tau, atol=1, rtol=1, method=\"RK45\",events=event)"
   ]
  },
  {
   "cell_type": "code",
   "execution_count": 27,
   "id": "92e1d4e0",
   "metadata": {},
   "outputs": [
    {
     "data": {
      "text/plain": [
       "[<matplotlib.lines.Line2D at 0x21e99c0afd0>]"
      ]
     },
     "execution_count": 27,
     "metadata": {},
     "output_type": "execute_result"
    },
    {
     "data": {
      "image/png": "[encoded data removed]",
      "text/plain": [
       "<Figure size 640x480 with 1 Axes>"
      ]
     },
     "metadata": {},
     "output_type": "display_data"
    }
   ],
   "source": [
    "plt.plot(orbitsx[0], orbitsy[0], linestyle='--', label='1 оборот')"
   ]
  }
 ],
 "metadata": {
  "kernelspec": {
   "display_name": "Python 3",
   "language": "python",
   "name": "python3"
  },
  "language_info": {
   "codemirror_mode": {
    "name": "ipython",
    "version": 3
   },
   "file_extension": ".py",
   "mimetype": "text/x-python",
   "name": "python",
   "nbconvert_exporter": "python",
   "pygments_lexer": "ipython3",
   "version": "3.13.0"
  }
 },
 "nbformat": 4,
 "nbformat_minor": 5
}
